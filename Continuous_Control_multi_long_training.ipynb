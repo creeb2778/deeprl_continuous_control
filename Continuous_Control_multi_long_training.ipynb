{
 "cells": [
  {
   "cell_type": "markdown",
   "metadata": {},
   "source": [
    "# Continuous Control\n",
    "\n",
    "---\n",
    "\n",
    "In this notebook, you will learn how to use the Unity ML-Agents environment for the second project of the [Deep Reinforcement Learning Nanodegree](https://www.udacity.com/course/deep-reinforcement-learning-nanodegree--nd893) program.\n",
    "\n",
    "### 1. Start the Environment\n",
    "\n",
    "We begin by importing the necessary packages.  If the code cell below returns an error, please revisit the project instructions to double-check that you have installed [Unity ML-Agents](https://github.com/Unity-Technologies/ml-agents/blob/master/docs/Installation.md) and [NumPy](http://www.numpy.org/)."
   ]
  },
  {
   "cell_type": "code",
   "execution_count": 1,
   "metadata": {},
   "outputs": [],
   "source": [
    "from unityagents import UnityEnvironment\n",
    "import numpy as np\n",
    "from ddpg_multiagent import Agent\n",
    "from collections import deque\n",
    "import matplotlib.pyplot as plt\n",
    "%matplotlib inline\n",
    "import torch"
   ]
  },
  {
   "cell_type": "code",
   "execution_count": 2,
   "metadata": {},
   "outputs": [
    {
     "name": "stderr",
     "output_type": "stream",
     "text": [
      "INFO:unityagents:\n",
      "'Academy' started successfully!\n",
      "Unity Academy name: Academy\n",
      "        Number of Brains: 1\n",
      "        Number of External Brains : 1\n",
      "        Lesson number : 0\n",
      "        Reset Parameters :\n",
      "\t\tgoal_size -> 5.0\n",
      "\t\tgoal_speed -> 1.0\n",
      "Unity brain name: ReacherBrain\n",
      "        Number of Visual Observations (per agent): 0\n",
      "        Vector Observation space type: continuous\n",
      "        Vector Observation space size (per agent): 33\n",
      "        Number of stacked Vector Observation: 1\n",
      "        Vector Action space type: continuous\n",
      "        Vector Action space size (per agent): 4\n",
      "        Vector Action descriptions: , , , \n"
     ]
    }
   ],
   "source": [
    "#place path to reacher unity env\n",
    "path_to_unity_env = '~/Reacher_Linux_multi_agent/Reacher.x86_64'\n",
    "env = UnityEnvironment(file_name=path_to_unity_env)"
   ]
  },
  {
   "cell_type": "markdown",
   "metadata": {},
   "source": [
    "Environments contain **_brains_** which are responsible for deciding the actions of their associated agents. Here we check for the first brain available, and set it as the default brain we will be controlling from Python."
   ]
  },
  {
   "cell_type": "code",
   "execution_count": 3,
   "metadata": {},
   "outputs": [],
   "source": [
    "# get the default brain\n",
    "brain_name = env.brain_names[0]\n",
    "brain = env.brains[brain_name]"
   ]
  },
  {
   "cell_type": "markdown",
   "metadata": {},
   "source": [
    "# What does the env look like"
   ]
  },
  {
   "cell_type": "code",
   "execution_count": 4,
   "metadata": {},
   "outputs": [
    {
     "name": "stdout",
     "output_type": "stream",
     "text": [
      "Number of agents: 20\n",
      "Size of each action: 4\n",
      "There are 20 agents. Each observes a state with length: 33\n",
      "The state for the first agent looks like: [ 0.00000000e+00 -4.00000000e+00  0.00000000e+00  1.00000000e+00\n",
      " -0.00000000e+00 -0.00000000e+00 -4.37113883e-08  0.00000000e+00\n",
      "  0.00000000e+00  0.00000000e+00  0.00000000e+00  0.00000000e+00\n",
      "  0.00000000e+00  0.00000000e+00 -1.00000000e+01  0.00000000e+00\n",
      "  1.00000000e+00 -0.00000000e+00 -0.00000000e+00 -4.37113883e-08\n",
      "  0.00000000e+00  0.00000000e+00  0.00000000e+00  0.00000000e+00\n",
      "  0.00000000e+00  0.00000000e+00  5.75471878e+00 -1.00000000e+00\n",
      "  5.55726624e+00  0.00000000e+00  1.00000000e+00  0.00000000e+00\n",
      " -1.68164849e-01]\n"
     ]
    }
   ],
   "source": [
    "# reset the environment\n",
    "env_itter = env.reset(train_mode=False)[brain_name]\n",
    "\n",
    "# number of agents\n",
    "num_agents = len(env_itter.agents)\n",
    "print('Number of agents:', num_agents)\n",
    "\n",
    "# size of each action\n",
    "action_size = brain.vector_action_space_size\n",
    "print('Size of each action:', action_size)\n",
    "\n",
    "# examine the state space \n",
    "states = env_itter.vector_observations\n",
    "state_size = states.shape[1]\n",
    "print('There are {} agents. Each observes a state with length: {}'.format(states.shape[0], state_size))\n",
    "print('The state for the first agent looks like:', states[0])"
   ]
  },
  {
   "cell_type": "code",
   "execution_count": 5,
   "metadata": {},
   "outputs": [],
   "source": [
    "agent = Agent(state_size=33,\n",
    "              action_size=4, random_seed=777)"
   ]
  },
  {
   "cell_type": "code",
   "execution_count": null,
   "metadata": {},
   "outputs": [
    {
     "name": "stdout",
     "output_type": "stream",
     "text": [
      "Episode 5\tAverage Score: 1.38\tMin Score: 0.00\tMax Score: 4.60\tEpisode score: 2.55\n",
      "Episode 10\tAverage Score: 2.27\tMin Score: 0.00\tMax Score: 8.78\tEpisode score: 4.37\n",
      "Episode 15\tAverage Score: 3.79\tMin Score: 0.00\tMax Score: 12.40\tEpisode score: 7.40\n",
      "Episode 20\tAverage Score: 5.56\tMin Score: 0.00\tMax Score: 16.47\tEpisode score: 13.08\n",
      "Episode 25\tAverage Score: 7.64\tMin Score: 0.00\tMax Score: 22.06\tEpisode score: 17.72\n",
      "Episode 30\tAverage Score: 9.54\tMin Score: 0.00\tMax Score: 34.32\tEpisode score: 18.63\n",
      "Episode 35\tAverage Score: 11.08\tMin Score: 0.00\tMax Score: 34.32\tEpisode score: 20.40\n",
      "Episode 40\tAverage Score: 12.25\tMin Score: 0.00\tMax Score: 34.32\tEpisode score: 20.47\n",
      "Episode 45\tAverage Score: 13.15\tMin Score: 0.00\tMax Score: 35.20\tEpisode score: 20.34\n",
      "Episode 50\tAverage Score: 13.94\tMin Score: 0.00\tMax Score: 39.22\tEpisode score: 21.86\n",
      "Episode 55\tAverage Score: 14.72\tMin Score: 0.00\tMax Score: 39.22\tEpisode score: 22.70\n",
      "Episode 60\tAverage Score: 15.37\tMin Score: 0.00\tMax Score: 39.22\tEpisode score: 21.10\n",
      "Episode 65\tAverage Score: 15.99\tMin Score: 0.00\tMax Score: 39.22\tEpisode score: 23.63\n",
      "Episode 70\tAverage Score: 16.60\tMin Score: 0.00\tMax Score: 39.22\tEpisode score: 25.37\n",
      "Episode 75\tAverage Score: 17.19\tMin Score: 0.00\tMax Score: 39.22\tEpisode score: 26.35\n",
      "Episode 80\tAverage Score: 17.73\tMin Score: 0.00\tMax Score: 39.22\tEpisode score: 26.26\n",
      "Episode 85\tAverage Score: 18.27\tMin Score: 0.00\tMax Score: 39.22\tEpisode score: 27.29\n",
      "Episode 90\tAverage Score: 18.73\tMin Score: 0.00\tMax Score: 39.22\tEpisode score: 27.05\n",
      "Episode 95\tAverage Score: 19.19\tMin Score: 0.00\tMax Score: 39.22\tEpisode score: 27.27\n",
      "Episode 100\tAverage Score: 19.57\tMin Score: 0.00\tMax Score: 39.22\tEpisode score: 26.35\n",
      "Episode 105\tAverage Score: 20.89\tMin Score: 0.81\tMax Score: 39.22\tEpisode score: 28.10\n",
      "Episode 110\tAverage Score: 22.12\tMin Score: 1.53\tMax Score: 39.22\tEpisode score: 28.48\n",
      "Episode 115\tAverage Score: 23.16\tMin Score: 1.53\tMax Score: 39.22\tEpisode score: 28.03\n",
      "Episode 120\tAverage Score: 24.05\tMin Score: 1.53\tMax Score: 39.22\tEpisode score: 28.89\n",
      "Episode 125\tAverage Score: 24.70\tMin Score: 1.53\tMax Score: 39.52\tEpisode score: 28.89\n",
      "Episode 130\tAverage Score: 25.17\tMin Score: 1.53\tMax Score: 39.52\tEpisode score: 29.33\n",
      "Episode 135\tAverage Score: 25.60\tMin Score: 1.53\tMax Score: 39.52\tEpisode score: 28.53\n",
      "Episode 140\tAverage Score: 26.02\tMin Score: 1.53\tMax Score: 39.52\tEpisode score: 27.65\n",
      "Episode 145\tAverage Score: 26.41\tMin Score: 1.53\tMax Score: 39.52\tEpisode score: 28.36\n",
      "Episode 147\tAverage Score: 26.53\tMin Score: 1.56\tMax Score: 39.52\tEpisode score: 27.54"
     ]
    }
   ],
   "source": [
    "def ddpg(n_episodes=500, max_t=1000):\n",
    "    scores_deque = deque(maxlen=100)\n",
    "    scores = []\n",
    "    for i_episode in range(1, n_episodes+1):\n",
    "        #restart env \n",
    "        env_itter = env.reset(train_mode=True)[brain_name] #note training = True here\n",
    "        #grab state of agents\n",
    "        state =env_itter.vector_observations\n",
    "        agent.reset()\n",
    "        score = np.zeros(len(env_itter.agents)) \n",
    "        \n",
    "        for t in range(max_t):\n",
    "            #select an action for each agent based off learned weights\n",
    "            \n",
    "            action = agent.act(state,i_episode,add_noise=True)\n",
    "            #send agents into env\n",
    "            env_itter = env.step(action)[brain_name]  \n",
    "            \n",
    "            #pull out env results\n",
    "            rewards = env_itter.rewards                      \n",
    "            dones = env_itter.local_done\n",
    "            next_states =env_itter.vector_observations\n",
    "            \n",
    "            #step agents forward in learning\n",
    "            agent.step(state, action, rewards, next_states, dones)\n",
    "            score += rewards      \n",
    "            state = next_states \n",
    "            if np.any(dones):\n",
    "                break \n",
    "    \n",
    "        scores_deque.append(score)\n",
    "        scores.append(score)\n",
    "\n",
    "        print('\\rEpisode {}\\tAverage Score: {:.2f}\\tMin Score: {:.2f}\\tMax Score: {:.2f}\\tEpisode score: {:.2f}'.format(i_episode, np.mean(scores_deque),np.min(scores_deque),np.max(scores_deque),np.mean(score)), end=\"\")\n",
    "        if i_episode % 5 == 0:\n",
    "            torch.save(agent.actor_local.state_dict(), 'checkpoint_actor_longtrain.pth')\n",
    "            torch.save(agent.critic_local.state_dict(), 'checkpoint_critic_longtrain.pth')\n",
    "            print('\\rEpisode {}\\tAverage Score: {:.2f}'.format(i_episode, np.mean(scores_deque)))   \n",
    "        \n",
    "    \n",
    "    return scores\n",
    "\n",
    "\n",
    "scores = ddpg()\n",
    "\n",
    "fig = plt.figure()\n",
    "ax = fig.add_subplot(111)\n",
    "plt.plot(np.arange(1, len(scores)+1), np.mean(scores,axis=1))\n",
    "plt.ylabel('Score')\n",
    "plt.xlabel('Episode #')\n",
    "plt.show()"
   ]
  },
  {
   "cell_type": "code",
   "execution_count": null,
   "metadata": {},
   "outputs": [],
   "source": []
  },
  {
   "cell_type": "code",
   "execution_count": null,
   "metadata": {},
   "outputs": [],
   "source": []
  },
  {
   "cell_type": "code",
   "execution_count": null,
   "metadata": {},
   "outputs": [],
   "source": []
  },
  {
   "cell_type": "code",
   "execution_count": null,
   "metadata": {},
   "outputs": [],
   "source": []
  },
  {
   "cell_type": "code",
   "execution_count": null,
   "metadata": {},
   "outputs": [],
   "source": []
  }
 ],
 "metadata": {
  "kernelspec": {
   "display_name": "Python 3",
   "language": "python",
   "name": "python3"
  },
  "language_info": {
   "codemirror_mode": {
    "name": "ipython",
    "version": 3
   },
   "file_extension": ".py",
   "mimetype": "text/x-python",
   "name": "python",
   "nbconvert_exporter": "python",
   "pygments_lexer": "ipython3",
   "version": "3.6.4"
  }
 },
 "nbformat": 4,
 "nbformat_minor": 2
}
